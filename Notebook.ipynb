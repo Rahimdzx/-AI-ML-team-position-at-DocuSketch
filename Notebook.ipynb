{
 "cells": [
  {
   "cell_type": "code",
   "execution_count": 3,
   "metadata": {},
   "outputs": [
    {
     "name": "stdout",
     "output_type": "stream",
     "text": [
      "Index(['name', 'gt_corners', 'rb_corners', 'mean', 'max', 'min', 'floor_mean',\n",
      "       'floor_max', 'floor_min', 'ceiling_mean', 'ceiling_max', 'ceiling_min'],\n",
      "      dtype='object')\n",
      "           name  gt_corners  rb_corners       mean        max       min  \\\n",
      "0  Schlafzimmer           4           4   3.956313   8.562939  0.274574   \n",
      "1         Küche           4           4  23.019122  52.605437  0.724299   \n",
      "2      Bathroom           4           4   1.013833   1.950322  0.301673   \n",
      "3  Lounge/Diner           8           8   3.832620  18.236935  0.173307   \n",
      "4    Essbereich           4           4   8.017758  15.642853  0.762948   \n",
      "\n",
      "   floor_mean  floor_max  floor_min  ceiling_mean  ceiling_max  ceiling_min  \n",
      "0    3.987864   8.562939   0.274574      3.924762     8.501885     0.331494  \n",
      "1    1.253103   1.897612   0.724299     44.785141    52.605437    36.880814  \n",
      "2    0.659138   1.318714   0.301673      1.368528     1.950322     0.878106  \n",
      "3    3.600083  15.041431   0.173307      4.065157    18.236935     0.253457  \n",
      "4    7.819446  15.399635   0.762948      8.216069    15.642853     0.909029  \n"
     ]
    }
   ],
   "source": [
    "import pandas as pd\n",
    "\n",
    "data_path = r\"C:\\Users\\Baha\\Desktop\\task\\deviation.json\"\n",
    "df = pd.read_json(data_path)\n",
    "print(df.columns)\n",
    "print(df.head())\n"
   ]
  }
 ],
 "metadata": {
  "kernelspec": {
   "display_name": "venv",
   "language": "python",
   "name": "python3"
  },
  "language_info": {
   "codemirror_mode": {
    "name": "ipython",
    "version": 3
   },
   "file_extension": ".py",
   "mimetype": "text/x-python",
   "name": "python",
   "nbconvert_exporter": "python",
   "pygments_lexer": "ipython3",
   "version": "3.12.6"
  }
 },
 "nbformat": 4,
 "nbformat_minor": 2
}
